{
  "nbformat": 4,
  "nbformat_minor": 0,
  "metadata": {
    "colab": {
      "provenance": [],
      "mount_file_id": "1oqpWI6NWaIuu782_BD0U6IlXU-TGDcmT",
      "authorship_tag": "ABX9TyNIrDaTsWfwo5EPNylZLkbS",
      "include_colab_link": true
    },
    "kernelspec": {
      "name": "python3",
      "display_name": "Python 3"
    },
    "language_info": {
      "name": "python"
    }
  },
  "cells": [
    {
      "cell_type": "markdown",
      "metadata": {
        "id": "view-in-github",
        "colab_type": "text"
      },
      "source": [
        "<a href=\"https://colab.research.google.com/github/Prasad0505/ATM_SYSTEM_PROJECT/blob/main/ATM_PROJECT_ipynbp.ipynb\" target=\"_parent\"><img src=\"https://colab.research.google.com/assets/colab-badge.svg\" alt=\"Open In Colab\"/></a>"
      ]
    },
    {
      "cell_type": "code",
      "execution_count": 1,
      "metadata": {
        "colab": {
          "base_uri": "https://localhost:8080/"
        },
        "id": "NsKmGsy9vheD",
        "outputId": "e74aa8a9-498a-4148-8017-08fea626629c"
      },
      "outputs": [
        {
          "output_type": "stream",
          "name": "stdout",
          "text": [
            "Welcome to XYZ Bank\n",
            "Please Insert your Card\n",
            "Enter card number:123456\n",
            "Enter your Pin:1234\n",
            "\n",
            "                            Option 1:Check your Balance\n",
            "                            Option 2:Withdraw Amount\n",
            "                            Option 3:Deposite Amount\n",
            "                            Option 4:Pin EXchange\n",
            "                            Option 5:Block Card\n",
            "                            Option 6:Exit\n",
            "\n",
            "                            \n",
            "Enter Your Choice:3\n",
            "Enter How much amount you want to Deposite:50\n",
            "You have Deposited 50 RS to your Account\n",
            "Your Current Balance is :950\n",
            "Enter your Pin:34\n",
            "Wrong Pin,Please Enter Correct Pin\n",
            "Thank You\n"
          ]
        }
      ],
      "source": [
        "import pandas as pd\n",
        "\n",
        "import time\n",
        "print(\"Welcome to XYZ Bank\")\n",
        "print(\"Please Insert your Card\")\n",
        "time.sleep(3)\n",
        "card_number1=int(input(\"Enter card number:\"))\n",
        "card_number=123456\n",
        "Pin=1234\n",
        "chance=3\n",
        "Balance=900\n",
        "\n",
        "while chance!=0:\n",
        " if card_number==card_number1:\n",
        "              pass\n",
        " else:\n",
        "      print(\"Wrong Card Number\")\n",
        "      break\n",
        "      \n",
        " passward1=int(input(\"Enter your Pin:\"))     \n",
        " if Pin== passward1:\n",
        "    \n",
        "                        \n",
        "                        print(\"\"\"\n",
        "                            Option 1:Check your Balance\n",
        "                            Option 2:Withdraw Amount\n",
        "                            Option 3:Deposite Amount\n",
        "                            Option 4:Pin EXchange\n",
        "                            Option 5:Block Card\n",
        "                            Option 6:Exit\n",
        "\n",
        "                            \"\"\")\n",
        "                        try:\n",
        "                            option=int(input(\"Enter Your Choice:\"))\n",
        "                        except:\n",
        "                            print(\"Please Enter valid option\")\n",
        "                            \n",
        "\n",
        "                        if option==1:\n",
        "                            print(\"Your Current Account Balance is:\",Balance)\n",
        "                        if option==2:\n",
        "                            if Balance<=1000:\n",
        "                                             print(\"Account Balance is low\")\n",
        "                                             break\n",
        "\n",
        "                            else:\n",
        "                             amt=int(input(\"Enter How much amount you want to Withdraw:\"))\n",
        "                             Balance=Balance-amt\n",
        "                            print(f\"You have withdrwa {amt} RS from you Account\")\n",
        "                            print(f\"Your Current Balance is :{Balance}\")\n",
        "\n",
        "                        if option==3:\n",
        "                           amt1=int(input(\"Enter How much amount you want to Deposite:\"))\n",
        "                           Balance=Balance+amt1\n",
        "                           print(f\"You have Deposited {amt1} RS to your Account\")\n",
        "                           print(f\"Your Current Balance is :{Balance}\")\n",
        "                        if option==4:\n",
        "                          card=int(input(\"Enter Card number:\"))\n",
        "                          if card_number==card:\n",
        "                                pass\n",
        "                          else:\n",
        "                                 print(\"Wrong Card Number\")\n",
        "                                 break\n",
        "                          import random\n",
        "                          import smtplib\n",
        "                          server=smtplib.SMTP('smtp.gmail.com',587)\n",
        "                          server.starttls()\n",
        "                          p='asouigxwqkwhxsoj'\n",
        "                          server.login('prasadnalawade0505@gmail.com',p)\n",
        "                          otp=random.randrange(1111,9999)\n",
        "                          msg=str(otp)\n",
        "                          msg1='Your OTP is '+ (msg)\n",
        "                          email1=str(input(\"Enter your email:\"))\n",
        "                          server.sendmail('prasadnalawade0505@gmail.com',email1,msg1)\n",
        "                          print(\"OTP send Successfully\")\n",
        "                          server.quit()\n",
        "                          num=int(input(\"Enter OTP:\"))\n",
        "                          if otp==num:\n",
        "                                      print(\"Verified\")\n",
        "                                      newpin= int(input(\"Enter New Pin:\"))\n",
        "                                      Pin=newpin\n",
        "                                      print(\"Your Pin changed Successfully\")\n",
        "                                      break\n",
        "                          else:\n",
        "                                      print(\"Not verified\")\n",
        "                        if option==5:\n",
        "                          card1=int(input(\"Enter Card number:\"))\n",
        "                          if card_number==card1:\n",
        "                                pass\n",
        "                          else:\n",
        "                                 print(\"Wrong Card Number\")\n",
        "                                 break\n",
        "                          import random\n",
        "                          import smtplib\n",
        "                          server=smtplib.SMTP('smtp.gmail.com',587)\n",
        "                          server.starttls()\n",
        "                          p='asouigxwqkwhxsoj'\n",
        "                          server.login('prasadnalawade0505@gmail.com',p)\n",
        "                          otp=random.randrange(1111,9999)\n",
        "                          msg=str(otp)\n",
        "                          msg1='Your OTP is '+ (msg)\n",
        "                          email1=str(input(\"Enter your email:\"))\n",
        "                          server.sendmail('prasadnalawade0505@gmail.com',email1,msg1)\n",
        "                          print(\"OTP send Successfully\")\n",
        "                          server.quit()\n",
        "                          num=int(input(\"Enter OTP:\"))\n",
        "                          if otp==num:\n",
        "                                      print(\"Verified\")\n",
        "                                      print(f\"Your Card of card number:{card1} is block\")\n",
        "                                      print(\"Your Card Blocked Successfully\")\n",
        "                                      break\n",
        "                          else:\n",
        "                                      print(\"Not verified\")\n",
        "                        if option==6:\n",
        "                                    break\n",
        "\n",
        "                        \n",
        "\n",
        " \n",
        " else:\n",
        "        chance=chance-1\n",
        "        print(\"Wrong Pin,Please Enter Correct Pin\")\n",
        "        break \n",
        "\n",
        "\n",
        "\n",
        "print(\"Thank You\")\n"
      ]
    },
    {
      "cell_type": "code",
      "source": [
        "\n"
      ],
      "metadata": {
        "id": "HOoOPqfkEZqa"
      },
      "execution_count": null,
      "outputs": []
    },
    {
      "cell_type": "code",
      "source": [],
      "metadata": {
        "id": "T0vIZ-ceHUR6"
      },
      "execution_count": 8,
      "outputs": []
    },
    {
      "cell_type": "code",
      "source": [],
      "metadata": {
        "colab": {
          "base_uri": "https://localhost:8080/"
        },
        "id": "dfx7BXOkhj41",
        "outputId": "803f89bf-69ea-4d35-fc19-f98b4f9e9111"
      },
      "execution_count": 12,
      "outputs": [
        {
          "output_type": "stream",
          "name": "stdout",
          "text": [
            "Enter your email:prasadnalawade42138@gmail.com\n",
            "OTP send Successfully\n",
            "Enter OTP:3226\n",
            " Email is Verified Successfully\n"
          ]
        }
      ]
    }
  ]
}